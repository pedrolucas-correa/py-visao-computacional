{
 "cells": [
  {
   "cell_type": "markdown",
   "metadata": {},
   "source": [
    "# 1. Libraries"
   ]
  },
  {
   "cell_type": "code",
   "execution_count": 10,
   "metadata": {},
   "outputs": [],
   "source": [
    "import cv2\n",
    "import argparse"
   ]
  },
  {
   "cell_type": "code",
   "execution_count": 11,
   "metadata": {},
   "outputs": [],
   "source": [
    "image = cv2.imread('dispersionHDfree.jpg')"
   ]
  },
  {
   "cell_type": "markdown",
   "metadata": {},
   "source": [
    "# 2. Average Blurring"
   ]
  },
  {
   "cell_type": "code",
   "execution_count": 9,
   "metadata": {},
   "outputs": [],
   "source": [
    "cv2.imshow(\"Original\", image)\n",
    "kernelSizes = [(3, 3), (9, 9), (15, 15)]\n",
    "# loop over the kernel sizes\n",
    "for (kX, kY) in kernelSizes:\n",
    "\t# apply an \"average\" blur to the image using the current kernel\n",
    "\t# size\n",
    "\tblurred = cv2.blur(image, (kX, kY))\n",
    "\tcv2.imshow(f\"Average ({kX}, {kY})\", blurred)\n",
    "\t\n",
    "\tcv2.waitKey(0)\n",
    "\tcv2.destroyAllWindows()"
   ]
  },
  {
   "cell_type": "markdown",
   "metadata": {},
   "source": [
    "# 3. Gaussian Blurring"
   ]
  },
  {
   "cell_type": "code",
   "execution_count": 12,
   "metadata": {},
   "outputs": [],
   "source": [
    "cv2.imshow(\"Original\", image)\n",
    "# loop over the kernel sizes again\n",
    "for (kX, kY) in kernelSizes:\n",
    "\t# apply a \"Gaussian\" blur to the image\n",
    "    blurred = cv2.GaussianBlur(image, (kX, kY), 0)\n",
    "    cv2.imshow(f\"Gaussian ({kX}, {kY})\", blurred)\n",
    "    \n",
    "    cv2.waitKey(0)\n",
    "    cv2.destroyAllWindows()"
   ]
  },
  {
   "cell_type": "markdown",
   "metadata": {},
   "source": [
    "# 4. Median Blurring"
   ]
  },
  {
   "cell_type": "code",
   "execution_count": 14,
   "metadata": {},
   "outputs": [],
   "source": [
    "cv2.imshow(\"Original\", image)\n",
    "# loop over the kernel sizes a final time\n",
    "for k in (3, 9, 15):\n",
    "\t# apply a \"median\" blur to the image\n",
    "\tblurred = cv2.medianBlur(image, k)\n",
    "\tcv2.imshow(f\"Median {k}\", blurred)\n",
    "\t\n",
    "\tcv2.waitKey(0)\n",
    "\tcv2.destroyAllWindows()"
   ]
  },
  {
   "cell_type": "markdown",
   "metadata": {},
   "source": [
    "# 5. Bilateral Blurring"
   ]
  },
  {
   "cell_type": "code",
   "execution_count": 13,
   "metadata": {},
   "outputs": [],
   "source": [
    "cv2.imshow(\"Original\", image)\n",
    "params = [(11, 21, 7), (11, 41, 21), (11, 61, 39)]\n",
    "# loop over the diameter, sigma color, and sigma space\n",
    "for (diameter, sigmaColor, sigmaSpace) in params:\n",
    "\t# apply bilateral filtering to the image using the current set of\n",
    "\t# parameters\n",
    "\tblurred = cv2.bilateralFilter(image, diameter, sigmaColor, sigmaSpace)\n",
    "\t# show the output image and associated parameters\n",
    "\ttitle = f\"Blurred d={diameter}, sc={sigmaColor}, ss={sigmaSpace}\"\n",
    "\n",
    "\tcv2.imshow(title, blurred)\n",
    "\tcv2.waitKey(0)\n",
    "\tcv2.destroyAllWindows()"
   ]
  }
 ],
 "metadata": {
  "kernelspec": {
   "display_name": "Python 3.8.13 ('OpenCV')",
   "language": "python",
   "name": "python3"
  },
  "language_info": {
   "codemirror_mode": {
    "name": "ipython",
    "version": 3
   },
   "file_extension": ".py",
   "mimetype": "text/x-python",
   "name": "python",
   "nbconvert_exporter": "python",
   "pygments_lexer": "ipython3",
   "version": "3.8.13"
  },
  "orig_nbformat": 4,
  "vscode": {
   "interpreter": {
    "hash": "91ef8a3869dbf0783aabcf8bba91aac92007daea0022354d1cf08fe41db9dba1"
   }
  }
 },
 "nbformat": 4,
 "nbformat_minor": 2
}
