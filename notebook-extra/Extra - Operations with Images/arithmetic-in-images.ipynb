{
 "cells": [
  {
   "cell_type": "markdown",
   "metadata": {},
   "source": [
    "# 1. Libraries"
   ]
  },
  {
   "cell_type": "code",
   "execution_count": 1,
   "metadata": {},
   "outputs": [],
   "source": [
    "import cv2"
   ]
  },
  {
   "cell_type": "markdown",
   "metadata": {},
   "source": [
    "# 2. Arithmetic Operations"
   ]
  },
  {
   "cell_type": "code",
   "execution_count": 2,
   "metadata": {},
   "outputs": [],
   "source": [
    "Image1 = cv2.imread ('fluorescence6HDfree.jpg')\n",
    "cv2.imshow('Fluorescence', Image1)\n",
    "cv2.waitKey(0)\n",
    "cv2.destroyAllWindows()"
   ]
  },
  {
   "cell_type": "code",
   "execution_count": 3,
   "metadata": {},
   "outputs": [],
   "source": [
    "Image2 = cv2.imread ('idyllHDfree.jpg')\n",
    "cv2.imshow('Landscape', Image2)\n",
    "cv2.waitKey(0)\n",
    "cv2.destroyAllWindows()"
   ]
  },
  {
   "cell_type": "markdown",
   "metadata": {},
   "source": [
    "## 2.1. Sum (Addition)"
   ]
  },
  {
   "cell_type": "code",
   "execution_count": 5,
   "metadata": {},
   "outputs": [],
   "source": [
    "Image1_add_Image2 = cv2.add (Image1, Image2)\n",
    "cv2.imwrite('Combination.png', Image1_add_Image2)\n",
    "cv2.imshow('image1 add image2', Image1_add_Image2)\n",
    "cv2.waitKey(0)\n",
    "cv2.destroyAllWindows()"
   ]
  },
  {
   "cell_type": "code",
   "execution_count": 11,
   "metadata": {},
   "outputs": [],
   "source": [
    "dst = cv2.addWeighted (Image1,0.7, Image2,0.3,0)\n",
    "cv2.imshow ( 'Weights' , dst)\n",
    "cv2.waitKey (0)\n",
    "cv2.destroyAllWindows ()"
   ]
  },
  {
   "cell_type": "markdown",
   "metadata": {},
   "source": [
    "# 2.2. Subtraction"
   ]
  },
  {
   "cell_type": "code",
   "execution_count": 7,
   "metadata": {},
   "outputs": [],
   "source": [
    "Image2_sub_Image1 = cv2.subtract (Image2, Image1)\n",
    "cv2.imwrite('image2_sub_image1.png', Image2_sub_Image1)\n",
    "cv2.imshow('Image2 subtracts Image1', Image2_sub_Image1)\n",
    "cv2.waitKey(0)\n",
    "cv2.destroyAllWindows()"
   ]
  },
  {
   "cell_type": "markdown",
   "metadata": {},
   "source": [
    "# 2.3. Multiplication"
   ]
  },
  {
   "cell_type": "code",
   "execution_count": 10,
   "metadata": {},
   "outputs": [],
   "source": [
    "Image1_mult_Image2 = cv2.multiply (Image1, Image2)\n",
    "cv2.imwrite('Image1_mult_Image1.png', Image1_mult_Image2)\n",
    "cv2.imshow('Image1 multiply Image2', Image1_mult_Image2)\n",
    "cv2.waitKey(0)\n",
    "cv2.destroyAllWindows()"
   ]
  },
  {
   "cell_type": "markdown",
   "metadata": {},
   "source": [
    "# 2.4. Division"
   ]
  },
  {
   "cell_type": "code",
   "execution_count": 6,
   "metadata": {},
   "outputs": [],
   "source": [
    "Image1_divis_Image2 = cv2.divide (Image1, Image2)\n",
    "cv2.imwrite('Image1_divide_Image2.png', Image1_divis_Image2)\n",
    "cv2.imshow('Image1 divide Image2', Image1_divis_Image2)\n",
    "cv2.waitKey(0)\n",
    "cv2.destroyAllWindows()"
   ]
  },
  {
   "cell_type": "markdown",
   "metadata": {},
   "source": [
    "## 2.5. Weighted Addition"
   ]
  },
  {
   "cell_type": "code",
   "execution_count": 7,
   "metadata": {},
   "outputs": [],
   "source": [
    "Image1_addWeighted_Image2 = cv2.addWeighted (Image1, 0.2, Image2, 0.4, 128)\n",
    "cv2.imwrite('Image1_addWeighted_Image2.png', Image1_addWeighted_Image2)\n",
    "cv2.imshow('Image1 addWeighted Image2', Image1_addWeighted_Image2)\n",
    "cv2.waitKey(0)\n",
    "cv2.destroyAllWindows()"
   ]
  },
  {
   "cell_type": "markdown",
   "metadata": {},
   "source": [
    "# 3. Logical Operations"
   ]
  },
  {
   "cell_type": "markdown",
   "metadata": {},
   "source": [
    "## 3.1 AND"
   ]
  },
  {
   "cell_type": "code",
   "execution_count": 7,
   "metadata": {},
   "outputs": [],
   "source": [
    "Image1_and_Image2 = cv2.bitwise_and (Image1, Image2)\n",
    "cv2.imwrite('Image1_and_Image2.png', Image1_and_Image2)\n",
    "cv2.imshow('Image1 and Image2', Image1_and_Image2)\n",
    "cv2.waitKey(0)\n",
    "cv2.destroyAllWindows()"
   ]
  },
  {
   "cell_type": "markdown",
   "metadata": {},
   "source": [
    "## 3.2 OR"
   ]
  },
  {
   "cell_type": "code",
   "execution_count": 4,
   "metadata": {},
   "outputs": [],
   "source": [
    "Image1_or_Image2 = cv2.bitwise_or (Image1, Image2)\n",
    "cv2.imwrite('Image1_or_Image2.png', Image1_or_Image2)\n",
    "cv2.imshow('Image1 or Image2', Image1_or_Image2)\n",
    "cv2.waitKey(0)\n",
    "cv2.destroyAllWindows()"
   ]
  },
  {
   "cell_type": "markdown",
   "metadata": {},
   "source": [
    "## 3.3 XOR"
   ]
  },
  {
   "cell_type": "code",
   "execution_count": 6,
   "metadata": {},
   "outputs": [],
   "source": [
    "Image1_xor_Image2 = cv2.bitwise_xor (Image1, Image2)\n",
    "cv2.imwrite('Image1_xor_Image2.png', Image1_xor_Image2)\n",
    "cv2.imshow('Image1 xor Image2', Image1_xor_Image2)\n",
    "cv2.waitKey(0)\n",
    "cv2.destroyAllWindows()"
   ]
  },
  {
   "cell_type": "markdown",
   "metadata": {},
   "source": [
    "## 3.4 NOT"
   ]
  },
  {
   "cell_type": "code",
   "execution_count": 7,
   "metadata": {},
   "outputs": [],
   "source": [
    "Image1_not_Image2 = cv2.bitwise_not (Image1, Image2)\n",
    "cv2.imwrite('Image1_not_Image2.png', Image1_not_Image2)\n",
    "cv2.imshow('Image1 not Image2', Image1_not_Image2)\n",
    "cv2.waitKey(0)\n",
    "cv2.destroyAllWindows()"
   ]
  }
 ],
 "metadata": {
  "kernelspec": {
   "display_name": "Python 3.8.13 ('OpenCV')",
   "language": "python",
   "name": "python3"
  },
  "language_info": {
   "codemirror_mode": {
    "name": "ipython",
    "version": 3
   },
   "file_extension": ".py",
   "mimetype": "text/x-python",
   "name": "python",
   "nbconvert_exporter": "python",
   "pygments_lexer": "ipython3",
   "version": "3.8.13"
  },
  "orig_nbformat": 4,
  "vscode": {
   "interpreter": {
    "hash": "91ef8a3869dbf0783aabcf8bba91aac92007daea0022354d1cf08fe41db9dba1"
   }
  }
 },
 "nbformat": 4,
 "nbformat_minor": 2
}
